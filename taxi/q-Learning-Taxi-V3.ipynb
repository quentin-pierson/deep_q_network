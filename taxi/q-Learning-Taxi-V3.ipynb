{
 "cells": [
  {
   "cell_type": "markdown",
   "id": "recreational-cleaning",
   "metadata": {},
   "source": [
    "# Q-Learning with Taxi-v3 🚕\n"
   ]
  },
  {
   "cell_type": "markdown",
   "id": "talented-measure",
   "metadata": {},
   "source": [
    "In this notebook, you'll implement a Q-Learning taxi that will need to learn to navigate in a city to transport its passengers from point A to point B.\n"
   ]
  },
  {
   "cell_type": "markdown",
   "id": "accompanied-replication",
   "metadata": {},
   "source": [
    "## Import the libraries 📚\n"
   ]
  },
  {
   "cell_type": "code",
   "execution_count": 39,
   "id": "attended-engineer",
   "metadata": {},
   "outputs": [],
   "source": [
    "import numpy as np\n",
    "import random\n",
    "import gym\n",
    "import matplotlib.pyplot as plt"
   ]
  },
  {
   "cell_type": "markdown",
   "id": "durable-announcement",
   "metadata": {},
   "source": [
    "## Create the environment "
   ]
  },
  {
   "cell_type": "code",
   "execution_count": 36,
   "id": "changing-registrar",
   "metadata": {
    "scrolled": false
   },
   "outputs": [
    {
     "name": "stdout",
     "output_type": "stream",
     "text": [
      "+---------+\n",
      "|\u001b[34;1mR\u001b[0m: | : :G|\n",
      "| : | : : |\n",
      "| : : : : |\n",
      "| | :\u001b[43m \u001b[0m| : |\n",
      "|Y| : |\u001b[35mB\u001b[0m: |\n",
      "+---------+\n",
      "\n"
     ]
    }
   ],
   "source": [
    "env = gym.make('Taxi-v3')\n",
    "env.render()"
   ]
  },
  {
   "cell_type": "markdown",
   "id": "nervous-polyester",
   "metadata": {},
   "source": [
    "## Create and initialize the Q-Table"
   ]
  },
  {
   "cell_type": "code",
   "execution_count": 4,
   "id": "infectious-barrel",
   "metadata": {},
   "outputs": [
    {
     "name": "stdout",
     "output_type": "stream",
     "text": [
      "There are 6 possible states\n",
      "There are 500 possible states\n"
     ]
    }
   ],
   "source": [
    "# all state space = 6\n",
    "# 4 directions (North, South, East, West) and Pickup and Put down\n",
    "action_space = env.action_space.n \n",
    "print(\"There are\",action_space,\"possible states\")\n",
    "\n",
    "\n",
    "observation_space = env.observation_space.n\n",
    "print(\"There are\",observation_space,\"possible states\")"
   ]
  },
  {
   "cell_type": "code",
   "execution_count": 5,
   "id": "coated-replica",
   "metadata": {},
   "outputs": [
    {
     "name": "stdout",
     "output_type": "stream",
     "text": [
      "[[0. 0. 0. 0. 0. 0.]\n",
      " [0. 0. 0. 0. 0. 0.]\n",
      " [0. 0. 0. 0. 0. 0.]\n",
      " ...\n",
      " [0. 0. 0. 0. 0. 0.]\n",
      " [0. 0. 0. 0. 0. 0.]\n",
      " [0. 0. 0. 0. 0. 0.]]\n",
      "(500, 6)\n"
     ]
    }
   ],
   "source": [
    "#Initialize my q-table to 0\n",
    "qtable = np.zeros((observation_space,action_space))\n",
    "print(qtable)\n",
    "print(qtable.shape)"
   ]
  },
  {
   "cell_type": "markdown",
   "id": "caring-madison",
   "metadata": {},
   "source": [
    "## Define the hyperparameters"
   ]
  },
  {
   "cell_type": "code",
   "execution_count": 6,
   "id": "circular-earthquake",
   "metadata": {},
   "outputs": [],
   "source": [
    "total_episodes = 10         # Total number of training episodes\n",
    "total_test_episodes = 10     # Total number of test episodes\n",
    "max_steps = 10               # Max steps per episode\n",
    "\n",
    "learning_rate = 0.01          # Learning rate\n",
    "gamma = 0.99                  # Discounting rate\n",
    "\n",
    "# Exploration parameters\n",
    "epsilon = 1.0                 # Exploration rate\n",
    "max_epsilon = 1.0             # Exploration probability at start\n",
    "min_epsilon = 0.001           # Minimum exploration probability \n",
    "decay_rate = 0.01             # Exponential decay rate for exploration prob"
   ]
  },
  {
   "cell_type": "markdown",
   "id": "designing-spouse",
   "metadata": {},
   "source": [
    "## Function greddy policy "
   ]
  },
  {
   "cell_type": "markdown",
   "id": "spectacular-meaning",
   "metadata": {},
   "source": [
    "The idea is that we define epsilon ɛ = 1.0:\n",
    "- With probability 1 — ɛ : we do exploitation (our agent selects the action with the highest state-action pair value).\n",
    "- With probability ɛ: we do exploration (trying random action)."
   ]
  },
  {
   "cell_type": "code",
   "execution_count": 7,
   "id": "enabling-prefix",
   "metadata": {},
   "outputs": [],
   "source": [
    "def greddy_policy(Q,state):\n",
    "    #Exploitation\n",
    "    if(random.uniform(0,1) > epsilon):\n",
    "        action = np.argmax(Q[state])\n",
    "    \n",
    "    #Because epsilon is big, I take a random action. \n",
    "    #Exploration\n",
    "    else:\n",
    "         action = env.action_space.sample()\n",
    "    return action"
   ]
  },
  {
   "cell_type": "markdown",
   "id": "foreign-candle",
   "metadata": {},
   "source": [
    "## The Q-Learning algorithm "
   ]
  },
  {
   "cell_type": "code",
   "execution_count": 26,
   "id": "critical-settle",
   "metadata": {},
   "outputs": [],
   "source": [
    "for episode in range(total_episodes): #episode \n",
    "    step = 0\n",
    "    final = False\n",
    "    #Reset environnement\n",
    "    state = env.reset()\n",
    "    \n",
    "    #Reduce epsilon\n",
    "    epsilon = min_epsilon + (max_epsilon - min_epsilon)* np.exp(-decay_rate * episode)\n",
    "    \n",
    "    for step in range(max_steps): # step \n",
    "        \n",
    "        action = greddy_policy(qtable,state)\n",
    "        \n",
    "        # Take action (a) and get reward (r), transit to next state (s)\n",
    "\n",
    "        new_state, reward , done , info = env.step(action)\n",
    "        \n",
    "        # TD update Q(s,a):= Q(s,a) + lr [R(s,a) + gamma * max Q(s',a') - Q(s,a)]\n",
    "        qtable[state][action] = qtable[state][action] + learning_rate * (reward + gamma *\n",
    "                                                                         np.max(qtable[new_state]-qtable[state][action]))\n",
    "        \n",
    "        if final == True:\n",
    "            break\n",
    "            \n",
    "        state = new_state "
   ]
  },
  {
   "cell_type": "markdown",
   "id": "czech-display",
   "metadata": {},
   "source": [
    "## Evalute the agent "
   ]
  },
  {
   "cell_type": "code",
   "execution_count": null,
   "id": "killing-salvation",
   "metadata": {},
   "outputs": [],
   "source": []
  }
 ],
 "metadata": {
  "kernelspec": {
   "display_name": "Python 3",
   "language": "python",
   "name": "python3"
  },
  "language_info": {
   "codemirror_mode": {
    "name": "ipython",
    "version": 3
   },
   "file_extension": ".py",
   "mimetype": "text/x-python",
   "name": "python",
   "nbconvert_exporter": "python",
   "pygments_lexer": "ipython3",
   "version": "3.7.9"
  }
 },
 "nbformat": 4,
 "nbformat_minor": 5
}
