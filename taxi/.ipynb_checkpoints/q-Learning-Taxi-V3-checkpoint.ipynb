{
 "cells": [
  {
   "cell_type": "markdown",
   "id": "banned-rolling",
   "metadata": {},
   "source": [
    "# Q-Learning with Taxi-v3 🚕\n"
   ]
  },
  {
   "cell_type": "markdown",
   "id": "frozen-reverse",
   "metadata": {},
   "source": [
    "In this notebook, you'll implement a Q-Learning taxi that will need to learn to navigate in a city to transport its passengers from point A to point B.\n"
   ]
  },
  {
   "cell_type": "markdown",
   "id": "possible-florence",
   "metadata": {},
   "source": [
    "## Import the libraries 📚\n"
   ]
  },
  {
   "cell_type": "code",
   "execution_count": 3,
   "id": "liberal-strategy",
   "metadata": {},
   "outputs": [],
   "source": [
    "import numpy as np\n",
    "import random\n",
    "import gym"
   ]
  },
  {
   "cell_type": "markdown",
   "id": "intended-earthquake",
   "metadata": {},
   "source": [
    "## Create the environment "
   ]
  },
  {
   "cell_type": "code",
   "execution_count": 10,
   "id": "reduced-shannon",
   "metadata": {
    "scrolled": false
   },
   "outputs": [
    {
     "name": "stdout",
     "output_type": "stream",
     "text": [
      "+---------+\n",
      "|R: | : :\u001b[35mG\u001b[0m|\n",
      "| : | : : |\n",
      "|\u001b[43m \u001b[0m: : : : |\n",
      "| | : | : |\n",
      "|\u001b[34;1mY\u001b[0m| : |B: |\n",
      "+---------+\n",
      "\n"
     ]
    }
   ],
   "source": [
    "env = gym.make('Taxi-v3')\n",
    "env.render()"
   ]
  },
  {
   "cell_type": "markdown",
   "id": "rental-stewart",
   "metadata": {},
   "source": [
    "## Create and initialize the Q-Table"
   ]
  },
  {
   "cell_type": "code",
   "execution_count": 20,
   "id": "portable-glenn",
   "metadata": {},
   "outputs": [
    {
     "name": "stdout",
     "output_type": "stream",
     "text": [
      "There are 6 possible states\n",
      "There are 500 possible states\n"
     ]
    }
   ],
   "source": [
    "# all state space = 6\n",
    "# 4 directions (North, South, East, West) and Pickup and Put down\n",
    "action_space = env.action_space.n \n",
    "print(\"There are\",action_space,\"possible states\")\n",
    "\n",
    "\n",
    "observation_space = env.observation_space.n\n",
    "print(\"There are\",observation_space,\"possible states\")"
   ]
  },
  {
   "cell_type": "code",
   "execution_count": 34,
   "id": "gross-genesis",
   "metadata": {},
   "outputs": [
    {
     "name": "stdout",
     "output_type": "stream",
     "text": [
      "[[0. 0. 0. 0. 0. 0.]\n",
      " [0. 0. 0. 0. 0. 0.]\n",
      " [0. 0. 0. 0. 0. 0.]\n",
      " ...\n",
      " [0. 0. 0. 0. 0. 0.]\n",
      " [0. 0. 0. 0. 0. 0.]\n",
      " [0. 0. 0. 0. 0. 0.]]\n",
      "(500, 6)\n"
     ]
    }
   ],
   "source": [
    "#Initialize my q-table to 0\n",
    "qtable = np.zeros((observation_space,action_space))\n",
    "print(qtable)\n",
    "print(qtable.shape)"
   ]
  },
  {
   "cell_type": "markdown",
   "id": "mounted-elder",
   "metadata": {},
   "source": [
    "## Define the hyperparameters"
   ]
  },
  {
   "cell_type": "code",
   "execution_count": 33,
   "id": "linear-appliance",
   "metadata": {},
   "outputs": [],
   "source": [
    "total_episodes = 1000         # Total number of training episodes\n",
    "total_test_episodes = 100     # Total number of test episodes\n",
    "max_steps = 200               # Max steps per episode\n",
    "\n",
    "learning_rate = 0.01          # Learning rate\n",
    "gamma = 0.99                  # Discounting rate\n",
    "\n",
    "# Exploration parameters\n",
    "epsilon = 1.0                 # Exploration rate\n",
    "max_epsilon = 1.0             # Exploration probability at start\n",
    "min_epsilon = 0.001           # Minimum exploration probability \n",
    "decay_rate = 0.01             # Exponential decay rate for exploration prob"
   ]
  },
  {
   "cell_type": "markdown",
   "id": "instructional-table",
   "metadata": {},
   "source": [
    "## Function greddy policy "
   ]
  },
  {
   "cell_type": "markdown",
   "id": "exotic-decade",
   "metadata": {},
   "source": [
    "The idea is that we define epsilon ɛ = 1.0:\n",
    "- With probability 1 — ɛ : we do exploitation (our agent selects the action with the highest state-action pair value).\n",
    "- With probability ɛ: we do exploration (trying random action)."
   ]
  },
  {
   "cell_type": "code",
   "execution_count": 36,
   "id": "parental-woman",
   "metadata": {},
   "outputs": [],
   "source": [
    "def greddy_policy(qtable,state):\n",
    "    #Exploitation\n",
    "    if(random.uniform(0,1) > epsilon):\n",
    "        action = np.argmax(qtable[state])\n",
    "    \n",
    "    #Because epsilon is big, I take a random action. \n",
    "    #Exploration\n",
    "    else:\n",
    "         action = env.action_space.sample()\n",
    "    return action"
   ]
  },
  {
   "cell_type": "markdown",
   "id": "devoted-visiting",
   "metadata": {},
   "source": [
    "## The Q-Learning algorithm "
   ]
  },
  {
   "cell_type": "code",
   "execution_count": null,
   "id": "private-hospital",
   "metadata": {},
   "outputs": [],
   "source": [
    "for i in range(total_episodes):\n",
    "    step = 0\n",
    "    final = false    "
   ]
  }
 ],
 "metadata": {
  "kernelspec": {
   "display_name": "Python 3",
   "language": "python",
   "name": "python3"
  },
  "language_info": {
   "codemirror_mode": {
    "name": "ipython",
    "version": 3
   },
   "file_extension": ".py",
   "mimetype": "text/x-python",
   "name": "python",
   "nbconvert_exporter": "python",
   "pygments_lexer": "ipython3",
   "version": "3.7.9"
  }
 },
 "nbformat": 4,
 "nbformat_minor": 5
}
